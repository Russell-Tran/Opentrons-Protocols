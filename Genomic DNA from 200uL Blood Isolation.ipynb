{
 "cells": [
  {
   "cell_type": "markdown",
   "metadata": {},
   "source": [
    "# Introduction\n",
    "\n",
    "This script was produced by Russell Tran for the [Guiyan Yan Lab](https://www.faculty.uci.edu/profile.cfm?faculty_id=5307) at UC Irvine. The Yan lab [studies](https://news.uci.edu/2017/04/27/9-6-million-grant-fuels-uci-malaria-control-research-in-africa/) the relationship between human-made environmental modifications (dams, irrigation, etc.) and malaria, and focuses on Kenya and Ethiopia.  \n",
    "\n",
    "The script uses the [Opentrons](http://opentrons.com/) OT-2 robotics platform to automate Machery-Nagel's [\"Genomic DNA from Blood\"](https://www.mn-net.com/Portals/8/attachments/Redakteure_Bio/Protocols/Genomic%20DNA/UM_gDNABlood_NMag200.pdf) protocol (procedure), published Dec 2015. In brief, the protocol uses various buffers and Machery-Nagel's NucleoMag magnetic beads to isolate DNA from a 200uL blood sample. Should the Yan lab decide to invest in an OT-2 robot, this script would help the lab cut down on the 4-5 hours of manual labor they report it takes them to complete the protocol once (for each 96 samples). "
   ]
  },
  {
   "cell_type": "markdown",
   "metadata": {},
   "source": [
    "# Measurements / Notes for refining the robot's technique\n",
    "\n",
    "(The protocol has been made to work with Qiagen troughs, though other troughs work too)\n",
    "- The Qiagen 170 mL troughs have depth of about 52.5 mm, so going to 47 mm deep is a good idea\n",
    "- The Qiagen 170 mL trough: 7mm height = 30 mL (RECTANGULAR PRISM VOLUME, not that of the trough indent on the bottom)\n",
    "- Square_wells total depth from the top is 44 mm\n",
    "- Square_wells meniscus 18 mm from bottom = 800 uL of volume (ratio is 0.0225 mm/uL)\n",
    "- MBL_3 trough: 12 mm down is sufficient for first \"drink\" at 170 mL\n",
    "- 80% Ethanol trough: 30 mm down down is sufficient for first \"drink\" at 80 mL"
   ]
  },
  {
   "cell_type": "markdown",
   "metadata": {},
   "source": [
    "# Before starting the protocol:\n",
    "\n",
    "- Check if Proteinase K was prepared according to section 3."
   ]
  },
  {
   "cell_type": "markdown",
   "metadata": {},
   "source": [
    "### Load the labware"
   ]
  },
  {
   "cell_type": "code",
   "execution_count": null,
   "metadata": {},
   "outputs": [],
   "source": [
    "from opentrons import containers, instruments, robot, modules, labware\n",
    "\n",
    "#Deck Slot 1 - MBL_2\n",
    "\n",
    "MBL_2 = labware.load('point', '1', 'MBL_2')\n",
    "\n",
    "#Deck Slot 2 - tipracks A for each step\n",
    "\n",
    "tiprack_2a = containers.load('tiprack-200ul', '2', 'tiprack_2a')\n",
    "tiprack_3a = containers.load('tiprack-200ul', '2', 'tiprack_3a', share=True)\n",
    "tiprack_4a = containers.load('tiprack-200ul', '2', 'tiprack_4a', share=True)\n",
    "tiprack_5a = containers.load('tiprack-200ul', '2', 'tiprack_5a', share=True)\n",
    "\n",
    "#Deck Slot 3 - tipracks B for each step\n",
    "\n",
    "tiprack_2b = containers.load('tiprack-200ul', '3', 'tiprack_2b')\n",
    "tiprack_3b = containers.load('tiprack-200ul', '3', 'tiprack_3b', share=True)\n",
    "tiprack_4b = containers.load('tiprack-200ul', '3', 'tiprack_4b', share=True)\n",
    "tiprack_5b = containers.load('tiprack-200ul', '3', 'tiprack_5b', share=True)\n",
    "\n",
    "#Deck Slot 4 - MBL_3\n",
    "\n",
    "MBL_3 = labware.load('point', '4', 'MBL_3')\n",
    "\n",
    "#Deck Slot 5 - EMPTY for now\n",
    "\n",
    "#Deck Slot 6 - Elution Plate\n",
    "\n",
    "elution_plate = labware.load('96-flat', '6', 'elution plate')\n",
    "\n",
    "#Deck Slot 7 - 80% ethanol\n",
    "\n",
    "ethanol = labware.load('point', '7', 'ethanol')\n",
    "\n",
    "#Deck Slot 8 - Square Well Block (deep well block), with Magnetic Deck module underneath\n",
    "\n",
    "magdeck = modules.load('magdeck', '8') # Note: will need to specify custom magnet engage height\n",
    "square_wells = labware.load('96-deep-well', '8', 'square_wells', share=True)\n",
    "\n",
    "#Deck Slot 9 - Chemical waste receptacle\n",
    "\n",
    "chem_waste = labware.load('point', '9', 'chem_waste')\n",
    "\n",
    "#Deck Slot 10 - MBL_4\n",
    "\n",
    "MBL_4 = labware.load('point', '10', 'MBL_4')\n",
    "\n",
    "#Deck Slot 11 - MBL_5\n",
    "\n",
    "MBL_5 = labware.load('point', '11', 'MBL_5')"
   ]
  },
  {
   "cell_type": "markdown",
   "metadata": {},
   "source": [
    "### Load the 8-Channel Pipette"
   ]
  },
  {
   "cell_type": "code",
   "execution_count": null,
   "metadata": {},
   "outputs": [],
   "source": [
    "eight_pipettes = instruments.P300_Multi(\n",
    "    tip_racks=[\n",
    "        tiprack_2a,\n",
    "        tiprack_2b,\n",
    "        tiprack_3a,\n",
    "        tiprack_3b,\n",
    "        tiprack_4a,\n",
    "        tiprack_4b\n",
    "        tiprack_5a,\n",
    "        tiprack_5b\n",
    "    ],\n",
    "    mount=\"left\"\n",
    ")"
   ]
  },
  {
   "cell_type": "markdown",
   "metadata": {},
   "source": [
    "# Functions\n",
    "\n"
   ]
  },
  {
   "cell_type": "code",
   "execution_count": null,
   "metadata": {},
   "outputs": [],
   "source": [
    "# trough_source - labware item to source washing fluid\n",
    "# quantities_to_put_in - array that should add up to total volume want to put in,\n",
    "#    but broken into 300 uL increments and smaller\n",
    "# distances_when_putting_in - array whose length should be the same as quantities_to_put_in.\n",
    "#    This is how many mm deep to go each time\n",
    "def add_fluid(trough_source, \n",
    "              quantities_to_put_in,\n",
    "              distances_when_putting_in\n",
    "             ):\n",
    "    \n",
    "    columns = ['1','2','3','4','5','6','7','8','9','10','11','12']\n",
    "\n",
    "    # for each column, use new pipette tips but keep looping with same tip until total qty dispensed for column.\n",
    "    for column in columns: \n",
    "                            # NOTE: Current process does not follow GMP \n",
    "                            # (https://en.wikipedia.org/wiki/Good_manufacturing_practice)\n",
    "                            # The code must be updated such that we should instead use new tips *every single* dispense,\n",
    "                            # even if it requires the usage of 3x more pipette tips.\n",
    "    \n",
    "        eight_pipettes.pick_up_tip()\n",
    "    \n",
    "        for quantity, distance in zip(quantities_to_put_in, distances_when_putting_in):\n",
    "\n",
    "            eight_pipettes.move_to(trough_source, strategy = \"arc\")\n",
    "\n",
    "            eight_pipettes.aspirate(quantity, trough_source)\n",
    "\n",
    "            eight_pipettes.move_to(square_wells.cols(column).top(distance), strategy = \"arc\")\n",
    "    \n",
    "            eight_pipettes.dispense(quantity, square_wells.cols(column).top(distance))\n",
    "    \n",
    "        eight_pipettes.mix(repetitions=15, volume=300, location=square_wells.cols(column).top(-10), rate=1.0)\n",
    "    \n",
    "        eight_pipettes.drop_tip()\n",
    "    \n",
    "\n",
    "    \n",
    "# quantities_to_take_out - array that should add up to total volume want to take out,    \n",
    "#    but broken into 300 uL increments and smaller for finesse\n",
    "# distances_when_taking_out - array whose length should be the same as quantities_to_take_out.\n",
    "#    This is how many mm deep to go each time\n",
    "def remove_supernatant(quantities_to_take_out, \n",
    "                       distances_when_taking_out):\n",
    "    \n",
    "    columns = ['1','2','3','4','5','6','7','8','9','10','11','12']\n",
    "    \n",
    "    for column in columns: #for each column, use new pipette tips but keep looping same tips until total qty removed for column.\n",
    "                    \n",
    "        eight_pipettes.pick_up_tip()\n",
    "    \n",
    "        for quantity, distance in zip(quantities_to_take_out, distances_when_taking_out):\n",
    "\n",
    "            eight_pipettes.move_to(square_wells.cols(column).top(distance), strategy = \"arc\")\n",
    "\n",
    "            eight_pipettes.aspirate(quantity, square_wells.cols(column).top(distance))\n",
    "\n",
    "            eight_pipettes.move_to(chem_waste['A1'], strategy = \"arc\")\n",
    "    \n",
    "            eight_pipettes.dispense(quantity, chem_waste['A1'])\n",
    "        \n",
    "        \n",
    "        eight_pipettes.drop_tip()\n",
    "        \n",
    "        \n",
    "# quantities_to_take_out - array that should add up to total volume want to take out,    \n",
    "#    but broken into 300 uL increments and smaller for finesse\n",
    "# distances_when_taking_out - array whose length should be the same as quantities_to_take_out.\n",
    "#    This is how many mm deep to go each time\n",
    "def transfer_supernatant(quantities_to_take_out, \n",
    "                       distances_when_taking_out): # NOTE: This function should be called for Step 7 ONLY\n",
    "    \n",
    "    columns = ['1','2','3','4','5','6','7','8','9','10','11','12']\n",
    "    \n",
    "    for column in columns: #for each column, use new pipette tips but keep looping same tips until total qty removed for column.\n",
    "                    \n",
    "        eight_pipettes.pick_up_tip()\n",
    "    \n",
    "        for quantity, distance in zip(quantities_to_take_out, distances_when_taking_out):\n",
    "\n",
    "            eight_pipettes.move_to(square_wells.cols(column).top(distance), strategy = \"arc\")\n",
    "\n",
    "            eight_pipettes.aspirate(quantity, square_wells.cols(column).top(distance))\n",
    "\n",
    "            eight_pipettes.move_to(elution_plate[column], strategy = \"arc\")\n",
    "    \n",
    "            eight_pipettes.dispense(quantity, elution_plate[column])\n",
    "        \n",
    "        \n",
    "        eight_pipettes.drop_tip()"
   ]
  },
  {
   "cell_type": "markdown",
   "metadata": {},
   "source": [
    "# 1. Lyse samples (NOTE: Prepare Manually)\n",
    "\n",
    "Dispense 20 uL of Proteinase K solution into each well of a Square-well Block.\n",
    "\n",
    "Transfer 200 uL blood (equilibrated to room temperature) to each well of a Square-well Block. Do not moisten the rims of the well. \n",
    "\n",
    "Note: See recommendations for suitable plates or tubes and compatible magnetic separators (section 2.3). \n",
    "\n",
    "Add 80 uL Buffer MBL1 to each sample and mix by repeated pipetting up and down (3-5 times) and shaking for 5-10 min at room temperature. \n",
    "\n",
    "Alternatively, when processing the kit without a shaker, pipette up and down 10 times and incubate 5-10 min at room temperature. "
   ]
  },
  {
   "cell_type": "code",
   "execution_count": null,
   "metadata": {},
   "outputs": [],
   "source": [
    "# STEP 1 will be prepared MANUALLY, as the OT-2 is limited to 2 pipettes."
   ]
  },
  {
   "cell_type": "markdown",
   "metadata": {},
   "source": [
    "# 2. Bind DNA to NucleoMag B-Beads\n",
    "\n",
    "Add 25 uL NucleoMag B-Beads to each sample. Mix magnetic  beads thoroughly before dispensing to the samples.\n",
    "\n",
    "Add 300 uL Buffer MBL2 to each sample and mix by pipetting up and down 3-5 times and shake for 5 min to allow the DNA to bind to the magnetic beads. Alternatively, when processing the kit without a shaker, pipetting up and down 10 times and incubate 5 min at room temperature. \n",
    "\n",
    "Note: NucleoMag B-Beads and Buffer MBL2 can be premixed. For each sample to be processed, mix 25 uL of NucleoMag B-Beads with 300 uL Buffer MBL2. Vortex briefly. Depending on the dead volume of the reservior, additional amounts of bead suspension and binding buffer are necessary. Mix the solution several times to avoid the beads to settle within the premix distribution step. Do not store the premix of the NucleoMag B-Beads and Buffer MBL2 longer than 12 h.\n",
    "\n",
    "\n",
    "Be sure to resuspend the NucleoMag B-Beads before removing them from the storage bottle. Vortex storage bottle briefly until a homogenous suspension has been formed. "
   ]
  },
  {
   "cell_type": "markdown",
   "metadata": {},
   "source": [
    "### IMPORTANT - For the purposes of this protocol, the MBL_2 trough contains the 300 uL:25 uL premixed together. Therefore, the above is summarized into the following:\n",
    "\n",
    "325 uL of MBL_2+NucleoMag B-Beads needs to be pipetted into each square well and then mixed by pipette 15 (5+10=15) times"
   ]
  },
  {
   "cell_type": "code",
   "execution_count": null,
   "metadata": {},
   "outputs": [],
   "source": [
    "add_fluid(trough_source = MBL_2.wells('A1').top(-47), \n",
    "          quantities_to_put_in = [250, 75],\n",
    "          distances_when_putting_in = [-40, -34])"
   ]
  },
  {
   "cell_type": "markdown",
   "metadata": {},
   "source": [
    "### Continuing on...\n",
    "Separate the magnetic beads against the side of the wells by placing the Square-Well Block on the magnetic separator."
   ]
  },
  {
   "cell_type": "code",
   "execution_count": null,
   "metadata": {},
   "outputs": [],
   "source": [
    "# Engage MagDeck\n",
    "magdeck.engage()"
   ]
  },
  {
   "cell_type": "markdown",
   "metadata": {},
   "source": [
    "Wait at least 2 min until all the beads have been attracted by the magnet. "
   ]
  },
  {
   "cell_type": "code",
   "execution_count": null,
   "metadata": {},
   "outputs": [],
   "source": [
    "eight_pipettes.delay(min=3) # 3 minutes to be conservative"
   ]
  },
  {
   "cell_type": "markdown",
   "metadata": {},
   "source": [
    "Remove and discard the supernatant by pipetting. Note: Do not disturb the attracted beads while aspirating the supernatant. The magnetic pellet is not visible in this step. Remove supernatant from the opposite side of the well."
   ]
  },
  {
   "cell_type": "code",
   "execution_count": null,
   "metadata": {},
   "outputs": [],
   "source": [
    "# Note: Arguments need to be set & refined\n",
    "remove_supernatant(quantities_to_take_out, \n",
    "                   distances_when_taking_out)"
   ]
  },
  {
   "cell_type": "markdown",
   "metadata": {},
   "source": [
    "# 3. Wash with MBL3 (1st wash)\n",
    "\n",
    "Remove the Square-well Block from the magnetic separator.\n",
    "\n",
    "Add 800 uL Buffer MBL3 to each well and resuspend the bead/DNA complex by shaking at room temperature until the beads are resuspended completely. Alternatively, resuspend the beads by pipetting up and down (15 times).\n",
    "\n",
    "Note: Make sure that the magnetic beads are resuspended completely and form a brownish suspension. If necessary increase shaking incubation time or number of mixing cycles. Incomplete mixing may result in low purity of eluted DNA.\n",
    "\n",
    "\n",
    "Separate the magnetic beads by placing the Square-well Block on the magnetic separator. Wait for at least 2 min until all the beads have been attracted to the magnet. Remove and discard supernatant by pipetting. \n",
    "\n",
    "Note: Supernatant has a brownish color, magnetic bead pellet is now visible."
   ]
  },
  {
   "cell_type": "code",
   "execution_count": null,
   "metadata": {},
   "outputs": [],
   "source": [
    "# Disengage MagDeck\n",
    "magdeck.disengage()\n",
    "\n",
    "# Note: Distances must be adjusted/refined to perfection\n",
    "add_fluid(trough_source = MBL_3.wells('A1').top(-47), \n",
    "          quantities_to_put_in = [300,300, 200],\n",
    "          distances_when_putting_in = [-10, -10, -10]\n",
    "         )\n",
    "    \n",
    "# Engage MagDeck\n",
    "magdeck.engage()\n",
    "\n",
    "# Wait at least 2 min\n",
    "eight_pipettes.delay(min=3)\n",
    "\n",
    "# Remove supernatant - Note: arguments need to be set & refined\n",
    "remove_supernatant(quantities_to_take_out, \n",
    "                   distances_when_taking_out)"
   ]
  },
  {
   "cell_type": "markdown",
   "metadata": {},
   "source": [
    "# 4. Wash with MBL3 (2nd wash)\n",
    "\n",
    "Remove the Square-well Block from the magnetic separator. \n",
    "\n",
    "Add 800 uL Buffer MBL3 to each well for a second wash step with Buffer MBL3. Wash the bead/DNA complex by shaking (5 min) at room temperature. Alternatively, resuspend the beads by pipetting up and down (15 times).\n",
    "\n",
    "Separate the magnetic beads by placing the Square-well Block on the magnetic separator. Wait for at least 2 min until all the beads have been attracted to the magnet. Remove and discard supernatant by pipetting.\n",
    "\n",
    "Note: Supernatant is colorless, magnetic bead pellet is clearly visible."
   ]
  },
  {
   "cell_type": "code",
   "execution_count": null,
   "metadata": {},
   "outputs": [],
   "source": [
    "# Disengage MagDeck\n",
    "magdeck.disengage()\n",
    "\n",
    "# Note: Distances must be adjusted/refined to perfection\n",
    "add_fluid(trough_source = MBL_3.wells('A1').top(-47), \n",
    "          quantities_to_put_in = [300, 300, 200],\n",
    "          distances_when_putting_in = [-10, -10, -10]\n",
    "         )\n",
    "    \n",
    "# Engage MagDeck\n",
    "magdeck.engage()\n",
    "\n",
    "# Wait at least 2 min\n",
    "eight_pipettes.delay(min=3)\n",
    "\n",
    "# Remove supernatant - Note: arguments need to be set & refined\n",
    "remove_supernatant(quantities_to_take_out, \n",
    "                   distances_when_taking_out)"
   ]
  },
  {
   "cell_type": "markdown",
   "metadata": {},
   "source": [
    "# 5. Wash with 80% ethanol\n",
    "\n",
    "Remove the Square-Well Block from the magnetic separator. \n",
    "\n",
    "Add 800 uL 80% ethanol to each well and wash the bead/DNA complex by shaking (5 min) at room temperature. Alternatively, resuspend the beads by pipetting up and down (15 times).\n",
    "\n",
    "Separate the magnetic beads by placing the Square-Well Block on the magnetic separator. Wait for at least 2 min until all the beads have been attracted to the magnet. Remove and discard supernatant by pipetting. \n",
    "\n",
    "Note: Supernatant is colorless, magnetic bead pellet is visible now. "
   ]
  },
  {
   "cell_type": "code",
   "execution_count": null,
   "metadata": {},
   "outputs": [],
   "source": [
    "# Disengage MagDeck\n",
    "magdeck.disengage()\n",
    "\n",
    "# Note: Distances must be adjusted\n",
    "add_fluid(trough_source = ethanol.wells('A1').top(-47), \n",
    "          quantities_to_put_in = [300, 300, 200],\n",
    "          distances_when_putting_in = [-10, -10, -10]\n",
    "         )\n",
    "    \n",
    "# Engage MagDeck\n",
    "magdeck.engage()\n",
    "\n",
    "# Wait at least 2 min\n",
    "eight_pipettes.delay(min=3)\n",
    "\n",
    "# Remove supernatant - Note: arguments need to be set & refined\n",
    "remove_supernatant(quantities_to_take_out, \n",
    "                   distances_when_taking_out)"
   ]
  },
  {
   "cell_type": "markdown",
   "metadata": {},
   "source": [
    "# 6. Wash with MBL4\n",
    "\n",
    "Leave Square-well Block on the magnetic separator.\n",
    "\n",
    "***IMPORTANT*** Gently add 900 uL Buffer MBL4 to each well and incubate for 45-90 s while the beads are still attracted to the magnet. \n",
    "\n",
    "Then aspirate and discard the supernatant.\n",
    "\n",
    "Note: Do **NOT** resuspend the beads in Buffer MBL4. This step is to remove traces of ethanol and eliminates a drying step.\n",
    "\n",
    "Optional: Washing the magnetic beads with Buffer MBL4 may decrease the DNA yield slightly. Alternatively, replace this washing step by air-drying of the magnetic beads for 10-15 min until all of the ethanol from previous washing step has evaporated. beads with remaining ethanol appear to be glossy. Moderate heating (37 degrees C) can support and shorten the air-drying step. Over drying the beads may result in low yield in the final elution step."
   ]
  },
  {
   "cell_type": "code",
   "execution_count": null,
   "metadata": {},
   "outputs": [],
   "source": [
    "# Disengage MagDeck\n",
    "magdeck.disengage()\n",
    "\n",
    "# Note: Distances must be adjusted, especially because this step requires a gentle dispense (dispense speed 0.5?)\n",
    "add_fluid(trough_source = MBL_4.wells('A1').top(-47), \n",
    "          quantities_to_put_in = [300, 300, 300],\n",
    "          distances_when_putting_in = [-10, -10, -10]\n",
    "         )\n",
    "    \n",
    "# Engage MagDeck\n",
    "magdeck.engage()\n",
    "\n",
    "# Wait at least 2 min\n",
    "eight_pipettes.delay(min=3)\n",
    "\n",
    "# Remove supernatant - Note: arguments need to be set & refined\n",
    "remove_supernatant(quantities_to_take_out, \n",
    "                   distances_when_taking_out)"
   ]
  },
  {
   "cell_type": "markdown",
   "metadata": {},
   "source": [
    "# 7. Elute DNA\n",
    "\n",
    "Remove the Square-well Block from the magnetic separator.\n",
    "\n",
    "Add desired volume of Buffer MBL5 (50-100 uL) to each well of the Square-Well Block and resuspend the bead/DNA complex by shaking (5-10 min). Alternatively, resuspend the beads by pipetting up and down (15 times). \n",
    "\n",
    "Separate the magnetic beads by placing the Square-well Block on the magnetic separator. Wait for at least 2 min until all the beads have been attracted to the magnet. Transfer the supernatant containing the purified genomic DNA to the Elution Plate. \n",
    "\n",
    "Note: Yield can be increase by 15-20% by using pre-heated elution buffer (55-72 degrees C) or by incubating the bead/elution buffer suspension at 55-72 degrees C for to 10 min. "
   ]
  },
  {
   "cell_type": "code",
   "execution_count": null,
   "metadata": {},
   "outputs": [],
   "source": [
    "# Disengage MagDeck\n",
    "magdeck.disengage()\n",
    "\n",
    "# Note: Distances must be adjusted/refined\n",
    "add_fluid(trough_source = MBL_5.wells('A1').top(-47), \n",
    "          quantities_to_put_in = [75, 75, 75],\n",
    "          distances_when_putting_in = [-10, -10, -10]\n",
    "         )\n",
    "    \n",
    "# Engage MagDeck\n",
    "magdeck.engage()\n",
    "\n",
    "# Wait at least 2 min\n",
    "eight_pipettes.delay(min=3)\n",
    "\n",
    "# Transfer supernatant - Note: arguments need to be set & refined\n",
    "transfer_supernatant(quantities_to_take_out, \n",
    "                       distances_when_taking_out)"
   ]
  }
 ],
 "metadata": {
  "kernelspec": {
   "display_name": "Python 3",
   "language": "python",
   "name": "python3"
  },
  "language_info": {
   "codemirror_mode": {
    "name": "ipython",
    "version": 3
   },
   "file_extension": ".py",
   "mimetype": "text/x-python",
   "name": "python",
   "nbconvert_exporter": "python",
   "pygments_lexer": "ipython3",
   "version": "3.6.4"
  }
 },
 "nbformat": 4,
 "nbformat_minor": 2
}
